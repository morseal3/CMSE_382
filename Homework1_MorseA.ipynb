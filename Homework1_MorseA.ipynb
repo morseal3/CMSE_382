{
 "cells": [
  {
   "cell_type": "markdown",
   "id": "6ac570b6",
   "metadata": {},
   "source": [
    "## Homework 1\n",
    "##### By: Alexis Morse"
   ]
  },
  {
   "cell_type": "markdown",
   "id": "d1132896",
   "metadata": {},
   "source": [
    "## 1. Prove $|| . ||_0$ that (the number of nonzero elements) is not a norm"
   ]
  },
  {
   "cell_type": "markdown",
   "id": "00129f9b",
   "metadata": {},
   "source": [
    "Inorder for ||x|| to be a norm it has to follow three rules\n",
    "\n",
    "#### a. nonnegativity where ||x|| has to be greater than 0 (sorry that says if and only if, still cant figure how to add spaces in a math latex sequence)\n",
    "$$||x||>=0 and ||x||= 0   if   and   only   if  x=0$$\n",
    "#### b. positive homogeneity, where x multiplied by a constant is equal to the norm of constant and x, multiplied \n",
    " $$||x\\lambda|| = |\\lambda| ||x|| $$\n",
    "#### c. triangle inequality which is a similar concept to positive homogeneity\n",
    "$$x+y|| <= ||x||+||y||$$\n",
    "\n",
    "The subscript of 2 is the typical subscript for norms $||.||_p$ (this is not a norm but rather formula for one) $p = 2$ so when \n",
    "\n",
    "written it will just be $||.||$\n",
    "\n",
    "The 0 norm of the scalar where  $x = [1,0]$  $\\lambda = 2$ \n",
    "$$||\\lambda* x||_0 = ||[2,0]||_0 = 1 $$ \n",
    "$$||\\lambda* x||_0 = ||[1,0]||_0 = 2$$\n",
    " #### 2 is not equal to 1 therefore this would break the second rule \"positive homogeneity\" therefore this proves $|| . ||_0$ is not a norm"
   ]
  },
  {
   "cell_type": "markdown",
   "id": "3654037c",
   "metadata": {},
   "source": [
    "## 2. What is the induced norm $||A||_{∞,∞}$ when is a square matrix?"
   ]
  },
  {
   "cell_type": "markdown",
   "id": "f84ff325",
   "metadata": {},
   "source": [
    "The equation for  $||A||_{∞,∞}$ is equivalent to  $||A||_{∞}$ . The induced norm $||A||_ \\infty = \\max\\limits_{{i= 1,2,...m}} \\sum_{j=1}^{m}|A_{i,j}|$\n",
    "also known as the maximum absolute row sum norm\n",
    "\n",
    "So, the induced norm of  $||A||_{∞,∞}$ is going to be the maximum of the absolute value summation of each row of the square matrix"
   ]
  },
  {
   "cell_type": "markdown",
   "id": "72def519",
   "metadata": {},
   "source": [
    "## 3. Provide one example of closed sets $U_i$ such that their union $∪Ui$ is not closed."
   ]
  },
  {
   "cell_type": "markdown",
   "id": "b6632923",
   "metadata": {},
   "source": [
    "For example, $U_a = (-\\inf, 3/x]$ and $U_b = [3/x, \\inf)$ is a collection of a closed sets, but the union of the infinite sets \n",
    "\n",
    "approach 0 without reaching 0\n",
    "\n",
    "so the Union of the sets would be an open set $(0, \\inf)$ since the values are approaching infinity and 0."
   ]
  },
  {
   "cell_type": "markdown",
   "id": "fc8a9734",
   "metadata": {},
   "source": [
    "## 4.  Find the global minimizer and maximizer of the function $f(x, y) = x^2 + y^2 − 3y$ over the unit ball B[0, 1] = {(x, y) : $x^2$ + $y^2$ ≤ 1}."
   ]
  },
  {
   "cell_type": "markdown",
   "id": "8a7d4a2b",
   "metadata": {},
   "source": [
    " $$f(x, y) = x^2 + y^2 − 3y \\\\ B[0, 1] =  x^2 + y^2 ≤ 1$$      \n",
    " \n",
    " #### $x^2 + y^2=1$  so  $f(x,y) = 1-3y$ and the boundary of the unit ball is [-1,1]\n",
    " \n",
    "you plug in 1 and -1 into 1-3y = 0 to get -2 and 4\n",
    "\n",
    "$$4 = x^2 + y^2 − 3y$$\n",
    "$$0 = x^2 + y^2 − 3y -4 $$\n",
    "$$0 = x^2 + (y+1)(y-4)$$\n",
    "When you plug in 0 for x you get the global maxima which would be (0,4) and (0,-1)\n",
    "\n",
    "$$-2 = x^2 + y^2 − 3y$$\n",
    "$$0 = x^2 + y^2 − 3y + 2$$\n",
    "$$0 = x^2 + (y+1)(y-4)$$\n",
    "When you plug in 0 for x you get the global minima which would be (0,1) and (0,2)\n"
   ]
  },
  {
   "cell_type": "markdown",
   "id": "f78f438a",
   "metadata": {},
   "source": [
    "## 5. Find all stationary points of $f(x, y) = (9x^2 − 4y)^2$ and check whether they are saddle\n",
    "## points, strict/nonstrict local/global minimizer/maximizer."
   ]
  },
  {
   "cell_type": "markdown",
   "id": "a030f0dc",
   "metadata": {},
   "source": [
    "### note: stanard $R^n = {e_1, e_2, e_3,...}$\n",
    "  The ith component of $e_i$ is 1 and the other components are 0"
   ]
  },
  {
   "cell_type": "markdown",
   "id": "c8313000",
   "metadata": {},
   "source": [
    "$$(9x^2 - 4y)(9x^2 -4y) = 9x^2=4y$$ (I solved the hessian on paper but I dont know how to format that in latex) so when solving\n",
    "\n",
    "#### you get $(2\\sqrt(y))/3$, therefore there are infinitely many solutions.\n",
    "\n",
    "When you plug in the possible solutions they are all going to give a value of 0 therefore the solution is nonnegative. \n",
    "\n",
    "Therefore according to the eigenvalue characterization theorem, the solution is positive semidefinite. The set is open because\n",
    "\n",
    "of the infinitely many solutions and the solutions are positive Hence, according to the SOOC definitions,there are infinitely\n",
    "\n",
    "many local mins. This is definitely not a saddle point because the function is nonnegative. \n",
    "#### Therefore, the stationary points are infinite local mins. "
   ]
  }
 ],
 "metadata": {
  "kernelspec": {
   "display_name": "Python 3",
   "language": "python",
   "name": "python3"
  },
  "language_info": {
   "codemirror_mode": {
    "name": "ipython",
    "version": 3
   },
   "file_extension": ".py",
   "mimetype": "text/x-python",
   "name": "python",
   "nbconvert_exporter": "python",
   "pygments_lexer": "ipython3",
   "version": "3.8.8"
  }
 },
 "nbformat": 4,
 "nbformat_minor": 5
}
